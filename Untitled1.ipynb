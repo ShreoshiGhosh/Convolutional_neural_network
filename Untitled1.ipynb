{
  "nbformat": 4,
  "nbformat_minor": 0,
  "metadata": {
    "colab": {
      "name": "Untitled1.ipynb",
      "provenance": [],
      "authorship_tag": "ABX9TyMMgDU3poOzBktzz8fKCDi3",
      "include_colab_link": true
    },
    "kernelspec": {
      "name": "python3",
      "display_name": "Python 3"
    }
  },
  "cells": [
    {
      "cell_type": "markdown",
      "metadata": {
        "id": "view-in-github",
        "colab_type": "text"
      },
      "source": [
        "<a href=\"https://colab.research.google.com/github/ShreoshiGhosh/Convolutional_neural_network/blob/master/Untitled1.ipynb\" target=\"_parent\"><img src=\"https://colab.research.google.com/assets/colab-badge.svg\" alt=\"Open In Colab\"/></a>"
      ]
    },
    {
      "cell_type": "code",
      "metadata": {
        "id": "_-3sKbFEw0gZ",
        "colab_type": "code",
        "colab": {}
      },
      "source": [
        "import cv2\n",
        "cap=cv2.VideoCapture(0)\n",
        "while cap.isOpened():\n",
        "    ret,back=cap.read()\n",
        "    if ret:\n",
        "        cv2.imshow(\"image\",back)\n",
        "        if cv2.waitKey(5) == ord('q'):\n",
        "            cv2.imwrite('image.jpg',back)\n",
        "            break\n",
        "cap.release()\n",
        "cv2.destroyAllWindows()\n"
      ],
      "execution_count": 3,
      "outputs": []
    }
  ]
}